{
 "cells": [
  {
   "cell_type": "code",
   "execution_count": 11,
   "id": "6f85f0ce",
   "metadata": {},
   "outputs": [],
   "source": [
    "import pandas as pd\n",
    "import numpy as np\n",
    "import scipy.stats\n",
    "from matplotlib import pyplot as plt\n",
    "\n",
    "import scipy.integrate\n",
    "from scipy.optimize import fsolve"
   ]
  },
  {
   "cell_type": "markdown",
   "id": "c40fc4bc",
   "metadata": {},
   "source": [
    "## Exogenous Selection"
   ]
  },
  {
   "cell_type": "code",
   "execution_count": 3,
   "id": "dab8d412",
   "metadata": {},
   "outputs": [],
   "source": [
    "class BesleyModel:\n",
    "    \n",
    "    def __init__(self, beta = 0.8, pi = 0.5, delta = 0.7, r_min = 0, E = 0.2, q = 0.2, R_max = 1):\n",
    "        self.beta, self.pi = beta, pi\n",
    "        self.delta, self.r_min, self.R_max = delta, r_min, R_max\n",
    "        self.E, self.q = E, q\n",
    "          \n",
    "    def G(self, x):\n",
    "        R_max, r_min = self.R_max, self.r_min\n",
    "        \n",
    "        return scipy.stats.uniform.cdf(x, loc = r_min, scale = R_max)\n",
    "        \n",
    "    def g(self, x):\n",
    "        R_max, r_min = self.R_max, self.r_min\n",
    "        \n",
    "        return scipy.stats.uniform.pdf(x, loc = r_min, scale = R_max)\n",
    "        \n",
    "    def lbda(self, E):\n",
    "        \"\"\"\n",
    "        Probability that dissonant politician does what the electorate wants\n",
    "        \"\"\"\n",
    "        G = self.G\n",
    "        q, beta = self.q, self.beta\n",
    "        mu = (self.R_max - self.r_min)/2\n",
    "        \n",
    "        return q*G(beta*(mu+E))\n",
    "    \n",
    "    def phi(self, E):\n",
    "        \"\"\"\n",
    "        Probability that firm term incumbent generates the good action for voters\n",
    "        \"\"\"\n",
    "        pi = self.pi\n",
    "        lbda = self.lbda\n",
    "        \n",
    "        return pi + (1-pi)*lbda(E)\n",
    "    \n",
    "    def Pi(self, E):\n",
    "        \"\"\"\n",
    "        Updated probability that incumbent in congruent instead of dissonant\n",
    "        conditional on generating a delta benefit in the first period\n",
    "        \"\"\"\n",
    "        phi = self.phi\n",
    "        pi = self.pi\n",
    "        \n",
    "        return pi/phi(E)\n",
    "    \n",
    "    def v(self, E):\n",
    "        \"\"\"\n",
    "        Voter welfare viewed from the first period\n",
    "        \"\"\"\n",
    "        delta, beta, pi = self.delta, self.beta, self.pi\n",
    "        phi = self.phi\n",
    "        \n",
    "        return delta/(1-beta) * (phi(E) + pi*beta)/(1+beta*phi(E))\n",
    "        \n",
    "        \n",
    "        "
   ]
  },
  {
   "cell_type": "code",
   "execution_count": 4,
   "id": "fabca903",
   "metadata": {},
   "outputs": [],
   "source": [
    "possible_E = np.linspace(0, 0.9, num=100)\n",
    "\n",
    "#matrix for different pi's, beta's, whatever\n",
    "possible_pi = [0.4, 0.5, 0.6, 0.7]\n",
    "\n",
    "prob_congruence = np.empty([len(possible_E), len(possible_pi)])\n",
    "\n",
    "\n",
    "def compute_prob(possible_E, possible_pi):\n",
    "    \n",
    "    for num, pi in enumerate(possible_pi):\n",
    "        \n",
    "        for num2, e in enumerate(possible_E):\n",
    "            \n",
    "            model=BesleyModel(beta = 0.7, pi = pi)\n",
    "            prob_congruence[num2, num] = model.phi(E=e)\n",
    "            \n",
    "compute_prob(possible_E, possible_pi)"
   ]
  },
  {
   "cell_type": "markdown",
   "id": "d231fc98",
   "metadata": {},
   "source": [
    "## Prediction 1\n",
    "\n",
    "An increase in wages increases the probability of congruence between voter preferences and policy outcomes. As a consequence, it reduces turnover among first-term incumbents. "
   ]
  },
  {
   "cell_type": "code",
   "execution_count": 5,
   "id": "9498e98f",
   "metadata": {},
   "outputs": [
    {
     "data": {
      "text/plain": [
       "<matplotlib.legend.Legend at 0x7f94c638bf50>"
      ]
     },
     "execution_count": 5,
     "metadata": {},
     "output_type": "execute_result"
    },
    {
     "data": {
      "image/png": "[encoded data removed]",
      "text/plain": [
       "<Figure size 432x288 with 1 Axes>"
      ]
     },
     "metadata": {
      "needs_background": "light"
     },
     "output_type": "display_data"
    }
   ],
   "source": [
    "fig, ax = plt.subplots()\n",
    "\n",
    "for i in range(prob_congruence.shape[1]):\n",
    "    ax.plot(possible_E, prob_congruence[:,i], label = f'$\\pi=${possible_pi[i]}')\n",
    "\n",
    "    \n",
    "ax.set_xlabel(\"In-office reward $E$\")\n",
    "ax.set_ylabel(\"$\\mathbb{P}$[Congruence]\")\n",
    "ax.legend()"
   ]
  },
  {
   "cell_type": "markdown",
   "id": "06649232",
   "metadata": {},
   "source": [
    "## Prediction 2\n",
    "\n",
    "Conditional on electing a dissonant politician, behavior deteriorates over time. But politicians in their second term in office behave better on average than those in their first term. The difference between second-term and first-term incumbents is smaller the larger the politician's wage. "
   ]
  },
  {
   "cell_type": "code",
   "execution_count": 6,
   "id": "e480162a",
   "metadata": {},
   "outputs": [],
   "source": [
    "possible_E = np.linspace(0, 0.9, num=100)\n",
    "\n",
    "#matrix for different pi's, beta's, whatever\n",
    "possible_pi = [0.4, 0.5, 0.6, 0.7]\n",
    "\n",
    "prob_congruence = np.empty([len(possible_E), len(possible_pi)])\n",
    "\n",
    "\n",
    "def compute_prob(possible_E, possible_pi):\n",
    "    \n",
    "    for num, pi in enumerate(possible_pi):\n",
    "        \n",
    "        for num2, e in enumerate(possible_E):\n",
    "            \n",
    "            model=BesleyModel(beta = 0.7, pi = pi)\n",
    "            prob_congruence[num2, num] = (model.pi/model.phi(E=e) - model.phi(E=e))\n",
    "            \n",
    "compute_prob(possible_E, possible_pi)"
   ]
  },
  {
   "cell_type": "code",
   "execution_count": 7,
   "id": "df6d3a67",
   "metadata": {},
   "outputs": [
    {
     "data": {
      "text/plain": [
       "<matplotlib.legend.Legend at 0x7f94c59da610>"
      ]
     },
     "execution_count": 7,
     "metadata": {},
     "output_type": "execute_result"
    },
    {
     "data": {
      "image/png": "[encoded data removed]",
      "text/plain": [
       "<Figure size 432x288 with 1 Axes>"
      ]
     },
     "metadata": {
      "needs_background": "light"
     },
     "output_type": "display_data"
    }
   ],
   "source": [
    "fig, ax = plt.subplots()\n",
    "\n",
    "for i in range(prob_congruence.shape[1]):\n",
    "    ax.plot(possible_E, prob_congruence[:,i], label = f'$\\pi=${possible_pi[i]}')\n",
    "\n",
    "    \n",
    "ax.set_xlabel(\"In-office reward $E$\")\n",
    "ax.set_ylabel(\"Difference $\\pi/\\phi(E)$ and $\\phi (E)$\")\n",
    "ax.legend()"
   ]
  },
  {
   "cell_type": "markdown",
   "id": "27f8c371",
   "metadata": {},
   "source": [
    "## Prediction 3\n",
    "\n",
    "Increasing $E$ increases voter welfare. "
   ]
  },
  {
   "cell_type": "code",
   "execution_count": 8,
   "id": "766f337d",
   "metadata": {},
   "outputs": [],
   "source": [
    "possible_E = np.linspace(0, 0.9, num=100)\n",
    "\n",
    "#matrix for different pi's, beta's, whatever\n",
    "possible_pi = [0.4, 0.5, 0.6, 0.7]\n",
    "\n",
    "prob_congruence = np.empty([len(possible_E), len(possible_pi)])\n",
    "\n",
    "\n",
    "def compute_prob(possible_E, possible_pi):\n",
    "    \n",
    "    for num, pi in enumerate(possible_pi):\n",
    "        \n",
    "        for num2, e in enumerate(possible_E):\n",
    "            \n",
    "            model=BesleyModel(beta = 0.7, pi = pi)\n",
    "            prob_congruence[num2, num] = model.v(e)\n",
    "            \n",
    "compute_prob(possible_E, possible_pi)"
   ]
  },
  {
   "cell_type": "code",
   "execution_count": 9,
   "id": "90eeb4e4",
   "metadata": {},
   "outputs": [
    {
     "data": {
      "text/plain": [
       "<matplotlib.legend.Legend at 0x7f94c591f750>"
      ]
     },
     "execution_count": 9,
     "metadata": {},
     "output_type": "execute_result"
    },
    {
     "data": {
      "image/png": "[encoded data removed]",
      "text/plain": [
       "<Figure size 432x288 with 1 Axes>"
      ]
     },
     "metadata": {
      "needs_background": "light"
     },
     "output_type": "display_data"
    }
   ],
   "source": [
    "fig, ax = plt.subplots()\n",
    "\n",
    "for i in range(prob_congruence.shape[1]):\n",
    "    ax.plot(possible_E, prob_congruence[:,i], label = f'$\\pi=${possible_pi[i]}')\n",
    "\n",
    "    \n",
    "ax.set_xlabel(\"In-office reward $E$\")\n",
    "ax.set_ylabel(\"Voter Welfare\")\n",
    "ax.legend()"
   ]
  },
  {
   "cell_type": "markdown",
   "id": "7f60ce16",
   "metadata": {},
   "source": [
    "## Endogenous Selection"
   ]
  },
  {
   "cell_type": "code",
   "execution_count": 97,
   "id": "69d00ce7",
   "metadata": {},
   "outputs": [],
   "source": [
    "class BesleyModelEndogSel:\n",
    "    \n",
    "    def __init__(self, \n",
    "                 beta = 0.8, \n",
    "                 gamma = 0.5, \n",
    "                 E = 0.2, \n",
    "                 r_min = 0, R_max = 1,\n",
    "                 w_max_c = 0.8, w_max_d = 1):\n",
    "        \n",
    "        self.beta, self.gamma = beta, gamma\n",
    "        self.r_min, self.R_max = r_min, R_max\n",
    "        self.mu = (self.R_max - self.r_min)/2\n",
    "        self.E = E\n",
    "        self.w_max_c, self.w_max_d = w_max_c, w_max_d\n",
    "    \n",
    "    def G(self, x):\n",
    "        R_max, r_min = self.R_max, self.r_min\n",
    "        \n",
    "        return scipy.stats.uniform.cdf(x, loc = r_min, scale = R_max)\n",
    "        \n",
    "    def g(self, x):\n",
    "        R_max, r_min = self.R_max, self.r_min\n",
    "        \n",
    "        return scipy.stats.uniform.pdf(x, loc = r_min, scale = R_max)\n",
    "        \n",
    "    def Lbda(self, E, w_bar):\n",
    "        \"\"\"\n",
    "        Probability of congruent behavior by a randomly selected dissonant politician\n",
    "        (the fraction of dissonant politicians willing to serve)\n",
    "        \"\"\"\n",
    "        G = self.G\n",
    "        beta = self.beta\n",
    "        mu = (self.R_max - self.r_min)/2\n",
    "        \n",
    "        def integrand(w):\n",
    "            \n",
    "            G = self.G\n",
    "            beta = self.beta\n",
    "            mu = (self.R_max - self.r_min)/2\n",
    "            return G(beta*(E+mu) - w)\n",
    "        \n",
    "        value = scipy.integrate.quad(integrand, 0, w_bar)[0]\n",
    "        out = value / w_bar\n",
    "        \n",
    "        return out\n",
    "    \n",
    "    def Psi(self, x):\n",
    "        \"\"\"\n",
    "        Helper function to solve functional equation\n",
    "        \"\"\"\n",
    "        G, g = self.G, self.g\n",
    "        beta = self.beta\n",
    "        \n",
    "        def integrand(y, x):\n",
    "            \n",
    "            G = self.G\n",
    "            beta = self.beta\n",
    "            mu = (self.R_max - self.r_min)/2\n",
    "            \n",
    "            return y*g(y)/(1+G(beta*x)*beta)\n",
    "        \n",
    "        out = - scipy.integrate.quad(integrand, 0, beta*x, args = (x,))[0]\n",
    "        \n",
    "        return out\n",
    "    \n",
    "    def solve_wbar(self):\n",
    "        \"\"\"\n",
    "        Solve for the reservation wage among dissonant politicians\n",
    "        \"\"\"\n",
    "        Psi = self.Psi\n",
    "        E = self.E\n",
    "        mu = self.mu\n",
    "        \n",
    "        def tosolve(w_bar, Psi, E, mu):\n",
    "            \n",
    "            return w_bar - E - mu - Psi(E + mu - w_bar)\n",
    "        \n",
    "        out = fsolve(tosolve, 1e-5, args=(Psi, E, mu))\n",
    "        \n",
    "        return out[0]\n",
    "    \n",
    "    def share_dissonant(self):\n",
    "        \"\"\"\n",
    "        The share of dissonant politicians who are willing to become politicians\n",
    "        \"\"\"\n",
    "        \n",
    "        solve_wbar = self.solve_wbar\n",
    "        w_max_d = self.w_max_d\n",
    "        \n",
    "        return(solve_wbar()/w_max_d)\n",
    "    \n",
    "    def pi(self):\n",
    "        \"\"\"\n",
    "        Compute the share of consonant politicians in the pool of people willing to become politicians\n",
    "        \"\"\"\n",
    "        E = self.E\n",
    "        gamma = self.gamma\n",
    "        solve_wbar = self.solve_wbar\n",
    "        w_max_c, w_max_d = self.w_max_c, self.w_max_d\n",
    "        \n",
    "        w_bar = solve_wbar()\n",
    "        \n",
    "        return gamma*(E/w_max_c)/(gamma*(E/w_max_c) + (1-gamma)*(w_bar/w_max_d))\n",
    "        \n",
    "        \n",
    "        "
   ]
  },
  {
   "cell_type": "markdown",
   "id": "84ab813a",
   "metadata": {},
   "source": [
    "## Prediction 4\n",
    "\n",
    "Paying higher wages will lead to the increase in the fraction of congruant politicians who will put themselves forward for office"
   ]
  },
  {
   "cell_type": "code",
   "execution_count": 100,
   "id": "2fe9ced0",
   "metadata": {},
   "outputs": [],
   "source": [
    "possible_E = np.linspace(0, 0.9, num=50)\n",
    "\n",
    "#matrix for different pi's, beta's, whatever\n",
    "possible_gamma = [0.4, 0.5, 0.6, 0.7]\n",
    "\n",
    "prob_congruence = np.empty([len(possible_E), len(possible_gamma)])\n",
    "\n",
    "\n",
    "def compute_prob(possible_E, possible_gamma):\n",
    "    \n",
    "    for num, gamma in enumerate(possible_gamma):\n",
    "        \n",
    "        for num2, e in enumerate(possible_E):\n",
    "            \n",
    "            model=BesleyModelEndogSel(beta = 0.7, E = e, gamma = gamma)\n",
    "            prob_congruence[num2, num] = model.pi()\n",
    "            \n",
    "compute_prob(possible_E, possible_gamma)"
   ]
  },
  {
   "cell_type": "code",
   "execution_count": 102,
   "id": "02548e6e",
   "metadata": {},
   "outputs": [
    {
     "data": {
      "text/plain": [
       "<matplotlib.legend.Legend at 0x7f94c3efcfd0>"
      ]
     },
     "execution_count": 102,
     "metadata": {},
     "output_type": "execute_result"
    },
    {
     "data": {
      "image/png": "[encoded data removed]",
      "text/plain": [
       "<Figure size 432x288 with 1 Axes>"
      ]
     },
     "metadata": {
      "needs_background": "light"
     },
     "output_type": "display_data"
    }
   ],
   "source": [
    "fig, ax = plt.subplots()\n",
    "\n",
    "for i in range(prob_congruence.shape[1]):\n",
    "    ax.plot(possible_E, prob_congruence[:,i], label = f'$\\gamma=${possible_gamma[i]}')\n",
    "\n",
    "    \n",
    "ax.set_xlabel(\"In-office reward $E$\")\n",
    "ax.set_ylabel(\"Fraction of Congruent Politicians\")\n",
    "ax.legend()"
   ]
  },
  {
   "cell_type": "code",
   "execution_count": null,
   "id": "4ba77528",
   "metadata": {},
   "outputs": [],
   "source": []
  }
 ],
 "metadata": {
  "kernelspec": {
   "display_name": "Python 3",
   "language": "python",
   "name": "python3"
  },
  "language_info": {
   "codemirror_mode": {
    "name": "ipython",
    "version": 3
   },
   "file_extension": ".py",
   "mimetype": "text/x-python",
   "name": "python",
   "nbconvert_exporter": "python",
   "pygments_lexer": "ipython3",
   "version": "3.7.10"
  },
  "varInspector": {
   "cols": {
    "lenName": 16,
    "lenType": 16,
    "lenVar": 40
   },
   "kernels_config": {
    "python": {
     "delete_cmd_postfix": "",
     "delete_cmd_prefix": "del ",
     "library": "var_list.py",
     "varRefreshCmd": "print(var_dic_list())"
    },
    "r": {
     "delete_cmd_postfix": ") ",
     "delete_cmd_prefix": "rm(",
     "library": "var_list.r",
     "varRefreshCmd": "cat(var_dic_list()) "
    }
   },
   "types_to_exclude": [
    "module",
    "function",
    "builtin_function_or_method",
    "instance",
    "_Feature"
   ],
   "window_display": false
  }
 },
 "nbformat": 4,
 "nbformat_minor": 5
}
